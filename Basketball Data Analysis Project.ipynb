{
 "cells": [
  {
   "cell_type": "markdown",
   "metadata": {},
   "source": [
    "<b> NBA Exploratory Data Analysis and Predicting Hall of Fame probability </b>\n",
    "\n",
    "Last Updated: 7/23/2020\n",
    "\n",
    "Is it possible to create a Logistic Regression Model  to accurately predict if an NBA player can make the Hall of Fame? "
   ]
  },
  {
   "cell_type": "code",
   "execution_count": 1,
   "metadata": {},
   "outputs": [],
   "source": [
    "# Import necessary packages\n",
    "\n",
    "%matplotlib inline\n",
    "\n",
    "import numpy as np\n",
    "import pandas as pd\n",
    "import matplotlib.pyplot as plt\n",
    "import seaborn as sns\n",
    "\n",
    "# Logistic regression and cross validation libraries\n",
    "from sklearn.linear_model import LogisticRegression\n",
    "from sklearn.model_selection import cross_val_predict\n",
    "from sklearn.model_selection import KFold\n",
    "\n",
    "import warnings\n",
    "warnings.simplefilter('ignore')"
   ]
  },
  {
   "cell_type": "code",
   "execution_count": 2,
   "metadata": {},
   "outputs": [],
   "source": [
    "# Import datasets \n",
    "\n",
    "master_df = pd.read_csv('basketball_master.csv', usecols= ['player_ID', 'firstName', 'lastName', 'pos', 'college'])\n",
    "awards_df = pd.read_csv('basketball_awards_players.csv',usecols=['playerID', 'award','lgID', 'year'])\n",
    "allstar_df = pd.read_csv('basketball_player_allstar2.csv',usecols=['player_id','season_id', 'league_id'])\n",
    "hof_df = pd.read_csv('basketball_hof.csv',usecols=['hofID','year', 'category'])\n",
    "players_df = pd.read_csv('basketball_players.csv')"
   ]
  },
  {
   "cell_type": "markdown",
   "metadata": {},
   "source": [
    "<b> Data Cleaning </b>\n",
    "<br>Matching column names for input data files and filtering for relevant data"
   ]
  },
  {
   "cell_type": "code",
   "execution_count": 3,
   "metadata": {},
   "outputs": [],
   "source": [
    "# setting player_id as leading column in each dataframe\n",
    "master_df.columns = ['player_id', 'firstName', 'lastName', 'pos', 'college']\n",
    "\n",
    "# only show players & awards won in NBA\n",
    "awards_df = awards_df[awards_df['lgID'] == 'NBA']\n",
    "players_df = players_df[players_df['lgID'] == 'NBA']\n",
    "allstar_df = allstar_df[allstar_df['league_id'] == 'NBA']\n",
    "\n",
    "players_df.rename(columns = {'playerID':'player_id'}, inplace = True)\n",
    "players_df = players_df.drop(['stint','tmID','lgID','GS','note'], axis=1)\n",
    "\n",
    "# remove players with zero games played in any given year\n",
    "players_df = players_df[players_df['GP'] != 0]\n",
    "\n",
    "# remove player post season columns\n",
    "cols = [c for c in players_df.columns if c[:4] != 'Post']\n",
    "players_df = players_df[cols]\n",
    "\n",
    "awards_df = awards_df.drop(['lgID'], axis=1)\n",
    "awards_df.columns = ['player_id', 'award', 'year']\n",
    "hof_df = hof_df[['hofID','category','year']]\n",
    "hof_df.columns = ['player_id', 'category','year']\n",
    "hof_df = hof_df[hof_df['category']== 'Player']"
   ]
  },
  {
   "cell_type": "markdown",
   "metadata": {},
   "source": [
    "Creating dictionary 'player_stats' to store total data per player"
   ]
  },
  {
   "cell_type": "code",
   "execution_count": 4,
   "metadata": {},
   "outputs": [],
   "source": [
    "# Create DataFrame that captures total player career stats and years played\n",
    "player_stats = {}\n",
    "years_played = {}\n",
    "\n",
    "# Create dictionaries for player stats\n",
    "for i, row in players_df.iterrows():\n",
    "    player_id = row['player_id']\n",
    "    if player_id in player_stats:\n",
    "        player_stats[player_id]['GP'] = player_stats[player_id]['GP'] + row ['GP']\n",
    "        player_stats[player_id]['points'] = player_stats[player_id]['points'] + row ['points']\n",
    "        player_stats[player_id]['rebounds'] = player_stats[player_id]['rebounds'] + row ['rebounds']\n",
    "        player_stats[player_id]['assists'] = player_stats[player_id]['assists'] + row ['assists']\n",
    "        player_stats[player_id]['minutes'] = player_stats[player_id]['minutes'] + row ['minutes']\n",
    "        years_played[player_id].append(row['year'])\n",
    "        \n",
    "    else:\n",
    "        player_stats[player_id] = {}\n",
    "        player_stats[player_id]['GP'] = row['GP']\n",
    "        player_stats[player_id]['points'] = row['points']\n",
    "        player_stats[player_id]['rebounds'] = row['rebounds']\n",
    "        player_stats[player_id]['assists'] = row['assists']\n",
    "        player_stats[player_id]['minutes'] = row['minutes']\n",
    "        years_played[player_id] = []\n",
    "        years_played[player_id].append(row['year'])\n",
    "        \n"
   ]
  },
  {
   "cell_type": "code",
   "execution_count": 5,
   "metadata": {},
   "outputs": [],
   "source": [
    "# Add the number of years played to player_stats DataFrame\n",
    "for k, v in years_played.items():\n",
    "    player_stats[k]['Years_Played'] = len(list(set(v)))\n",
    "    "
   ]
  },
  {
   "cell_type": "markdown",
   "metadata": {},
   "source": [
    "We want to track the five key awards from 'awards_df'. These five awards are prestigious and given to a handful of players each season."
   ]
  },
  {
   "cell_type": "code",
   "execution_count": 6,
   "metadata": {},
   "outputs": [],
   "source": [
    "# Create DataFrames for each of 5 key awards\n",
    "mvp = awards_df[awards_df['award'] == 'Most Valuable Player']\n",
    "roy = awards_df[awards_df['award'] == 'Rookie of the Year']\n",
    "nba = awards_df[awards_df['award'] == 'All-NBA First Team']\n",
    "adef = awards_df[awards_df['award'] == 'All-Defensive First Team']\n",
    "f_mvp = awards_df[awards_df['award'] == 'Finals MVP']\n",
    "\n",
    "# Include each DataFrame in list 'awards_list'\n",
    "awards_list = [mvp,roy,nba,adef,f_mvp]\n",
    "\n",
    "# Initialize lists for each of the above DataFrames\n",
    "mvp_list = []\n",
    "roy_list = []\n",
    "nba_list = []\n",
    "adef_list = []\n",
    "f_mvp_list = []\n",
    "\n",
    "lists = [mvp_list,roy_list, nba_list, adef_list, f_mvp_list]\n",
    "\n",
    "# Add a count for each award for each player in 'player_stats'\n",
    "for index, v in enumerate(awards_list):\n",
    "    for i, row in v.iterrows():\n",
    "        player_id = row['player_id']\n",
    "        award = row['award']\n",
    "        if player_id in player_stats and player_id in lists[index]:\n",
    "            player_stats[player_id][award] += 1\n",
    "        else:\n",
    "            lists[index].append(player_id)\n",
    "            player_stats[player_id][award] = 1\n"
   ]
  },
  {
   "cell_type": "markdown",
   "metadata": {},
   "source": [
    "The All Star Game is a recognition only 24 players get per year."
   ]
  },
  {
   "cell_type": "code",
   "execution_count": 7,
   "metadata": {},
   "outputs": [],
   "source": [
    "# Add a count for each All Star Game appearance for each player in 'player_stats'\n",
    "allstar_list = [] \n",
    "\n",
    "for i, row in allstar_df.iterrows():\n",
    "    player_id = row['player_id']\n",
    "    if player_id in player_stats and player_id in allstar_list:\n",
    "        player_stats[player_id]['AS_game'] += 1\n",
    "    else:\n",
    "        allstar_list.append(player_id)\n",
    "        player_stats[player_id]['AS_game'] = 1"
   ]
  },
  {
   "cell_type": "markdown",
   "metadata": {},
   "source": [
    "We want to track in dictionary which players have been inducted into Hall of Fame, the most prestigious recognition."
   ]
  },
  {
   "cell_type": "code",
   "execution_count": 8,
   "metadata": {},
   "outputs": [],
   "source": [
    "# Indicate which players in 'player_stats' were inducted into Hall of Fame\n",
    "for i, row in hof_df.iterrows():\n",
    "    player_id = row['player_id']\n",
    "    if player_id in player_stats:\n",
    "        player_stats[player_id]['HoF'] = 1"
   ]
  },
  {
   "cell_type": "code",
   "execution_count": 9,
   "metadata": {},
   "outputs": [],
   "source": [
    "# Convert 'player_stats' into a DataFrame called stats_df\n",
    "# stats_df has compiled data from players_df, awards_df, hof_df\n",
    "\n",
    "stats_df = pd.DataFrame.from_dict(player_stats, orient='index')"
   ]
  },
  {
   "cell_type": "code",
   "execution_count": 10,
   "metadata": {},
   "outputs": [
    {
     "name": "stdout",
     "output_type": "stream",
     "text": [
      "<class 'pandas.core.frame.DataFrame'>\n",
      "Int64Index: 3749 entries, 0 to 4903\n",
      "Data columns (total 19 columns):\n",
      "player_id                   3749 non-null object\n",
      "firstName                   3748 non-null object\n",
      "lastName                    3749 non-null object\n",
      "pos                         3745 non-null object\n",
      "college                     3749 non-null object\n",
      "GP                          3749 non-null int64\n",
      "points                      3749 non-null int64\n",
      "rebounds                    3749 non-null int64\n",
      "assists                     3749 non-null int64\n",
      "minutes                     3749 non-null int64\n",
      "Years_Played                3749 non-null int64\n",
      "All-NBA First Team          97 non-null float64\n",
      "AS_game                     361 non-null float64\n",
      "HoF                         100 non-null float64\n",
      "Most Valuable Player        29 non-null float64\n",
      "Rookie of the Year          63 non-null float64\n",
      "All-Defensive First Team    69 non-null float64\n",
      "Finals MVP                  26 non-null float64\n",
      "player_idmstr               3749 non-null object\n",
      "dtypes: float64(7), int64(6), object(6)\n",
      "memory usage: 585.8+ KB\n"
     ]
    }
   ],
   "source": [
    "# Add a column for playerID from the 'stats_df' index\n",
    "stats_df['player_id'] = stats_df.index\n",
    "\n",
    "# Join 'stats_df' and 'master_df'\n",
    "master_df = master_df.join(stats_df,on='player_id',how='inner', rsuffix='mstr')\n",
    "\n",
    "# Inspect first rows of 'master_df'\n",
    "master_df.info()\n"
   ]
  },
  {
   "cell_type": "code",
   "execution_count": 11,
   "metadata": {},
   "outputs": [
    {
     "data": {
      "text/html": [
       "<div>\n",
       "<style scoped>\n",
       "    .dataframe tbody tr th:only-of-type {\n",
       "        vertical-align: middle;\n",
       "    }\n",
       "\n",
       "    .dataframe tbody tr th {\n",
       "        vertical-align: top;\n",
       "    }\n",
       "\n",
       "    .dataframe thead th {\n",
       "        text-align: right;\n",
       "    }\n",
       "</style>\n",
       "<table border=\"1\" class=\"dataframe\">\n",
       "  <thead>\n",
       "    <tr style=\"text-align: right;\">\n",
       "      <th></th>\n",
       "      <th>player_id</th>\n",
       "      <th>firstName</th>\n",
       "      <th>lastName</th>\n",
       "      <th>pos</th>\n",
       "      <th>college</th>\n",
       "      <th>GP</th>\n",
       "      <th>points</th>\n",
       "      <th>rebounds</th>\n",
       "      <th>assists</th>\n",
       "      <th>minutes</th>\n",
       "      <th>Years_Played</th>\n",
       "      <th>All-NBA First Team</th>\n",
       "      <th>AS_game</th>\n",
       "      <th>HoF</th>\n",
       "      <th>Most Valuable Player</th>\n",
       "      <th>Rookie of the Year</th>\n",
       "      <th>All-Defensive First Team</th>\n",
       "      <th>Finals MVP</th>\n",
       "      <th>player_idmstr</th>\n",
       "    </tr>\n",
       "  </thead>\n",
       "  <tbody>\n",
       "    <tr>\n",
       "      <th>0</th>\n",
       "      <td>abdelal01</td>\n",
       "      <td>Alaa</td>\n",
       "      <td>Abdelnaby</td>\n",
       "      <td>F-C</td>\n",
       "      <td>Duke</td>\n",
       "      <td>256</td>\n",
       "      <td>1465</td>\n",
       "      <td>846</td>\n",
       "      <td>85</td>\n",
       "      <td>3200</td>\n",
       "      <td>5</td>\n",
       "      <td>NaN</td>\n",
       "      <td>NaN</td>\n",
       "      <td>NaN</td>\n",
       "      <td>NaN</td>\n",
       "      <td>NaN</td>\n",
       "      <td>NaN</td>\n",
       "      <td>NaN</td>\n",
       "      <td>abdelal01</td>\n",
       "    </tr>\n",
       "    <tr>\n",
       "      <th>1</th>\n",
       "      <td>abdulka01</td>\n",
       "      <td>Kareem</td>\n",
       "      <td>Abdul-Jabbar</td>\n",
       "      <td>C</td>\n",
       "      <td>UCLA</td>\n",
       "      <td>1560</td>\n",
       "      <td>38387</td>\n",
       "      <td>17440</td>\n",
       "      <td>5660</td>\n",
       "      <td>57446</td>\n",
       "      <td>20</td>\n",
       "      <td>10.0</td>\n",
       "      <td>19.0</td>\n",
       "      <td>1.0</td>\n",
       "      <td>6.0</td>\n",
       "      <td>1.0</td>\n",
       "      <td>5.0</td>\n",
       "      <td>2.0</td>\n",
       "      <td>abdulka01</td>\n",
       "    </tr>\n",
       "    <tr>\n",
       "      <th>2</th>\n",
       "      <td>abdulma01</td>\n",
       "      <td>Mahdi</td>\n",
       "      <td>Abdul-Rahman</td>\n",
       "      <td>G</td>\n",
       "      <td>UCLA</td>\n",
       "      <td>724</td>\n",
       "      <td>9087</td>\n",
       "      <td>2146</td>\n",
       "      <td>3555</td>\n",
       "      <td>19202</td>\n",
       "      <td>10</td>\n",
       "      <td>NaN</td>\n",
       "      <td>NaN</td>\n",
       "      <td>NaN</td>\n",
       "      <td>NaN</td>\n",
       "      <td>NaN</td>\n",
       "      <td>NaN</td>\n",
       "      <td>NaN</td>\n",
       "      <td>abdulma01</td>\n",
       "    </tr>\n",
       "    <tr>\n",
       "      <th>3</th>\n",
       "      <td>abdulma02</td>\n",
       "      <td>Mahmoud</td>\n",
       "      <td>Abdul-Rauf</td>\n",
       "      <td>G</td>\n",
       "      <td>Louisiana State</td>\n",
       "      <td>586</td>\n",
       "      <td>8553</td>\n",
       "      <td>1087</td>\n",
       "      <td>2079</td>\n",
       "      <td>15628</td>\n",
       "      <td>9</td>\n",
       "      <td>NaN</td>\n",
       "      <td>NaN</td>\n",
       "      <td>NaN</td>\n",
       "      <td>NaN</td>\n",
       "      <td>NaN</td>\n",
       "      <td>NaN</td>\n",
       "      <td>NaN</td>\n",
       "      <td>abdulma02</td>\n",
       "    </tr>\n",
       "    <tr>\n",
       "      <th>4</th>\n",
       "      <td>abdulta01</td>\n",
       "      <td>Tariq</td>\n",
       "      <td>Abdul-Wahad</td>\n",
       "      <td>G-F</td>\n",
       "      <td>San Jose State</td>\n",
       "      <td>236</td>\n",
       "      <td>1830</td>\n",
       "      <td>776</td>\n",
       "      <td>266</td>\n",
       "      <td>4807</td>\n",
       "      <td>6</td>\n",
       "      <td>NaN</td>\n",
       "      <td>NaN</td>\n",
       "      <td>NaN</td>\n",
       "      <td>NaN</td>\n",
       "      <td>NaN</td>\n",
       "      <td>NaN</td>\n",
       "      <td>NaN</td>\n",
       "      <td>abdulta01</td>\n",
       "    </tr>\n",
       "  </tbody>\n",
       "</table>\n",
       "</div>"
      ],
      "text/plain": [
       "   player_id firstName      lastName  pos          college    GP  points  \\\n",
       "0  abdelal01      Alaa     Abdelnaby  F-C             Duke   256    1465   \n",
       "1  abdulka01    Kareem  Abdul-Jabbar    C             UCLA  1560   38387   \n",
       "2  abdulma01     Mahdi  Abdul-Rahman    G             UCLA   724    9087   \n",
       "3  abdulma02   Mahmoud    Abdul-Rauf    G  Louisiana State   586    8553   \n",
       "4  abdulta01     Tariq   Abdul-Wahad  G-F   San Jose State   236    1830   \n",
       "\n",
       "   rebounds  assists  minutes  Years_Played  All-NBA First Team  AS_game  HoF  \\\n",
       "0       846       85     3200             5                 NaN      NaN  NaN   \n",
       "1     17440     5660    57446            20                10.0     19.0  1.0   \n",
       "2      2146     3555    19202            10                 NaN      NaN  NaN   \n",
       "3      1087     2079    15628             9                 NaN      NaN  NaN   \n",
       "4       776      266     4807             6                 NaN      NaN  NaN   \n",
       "\n",
       "   Most Valuable Player  Rookie of the Year  All-Defensive First Team  \\\n",
       "0                   NaN                 NaN                       NaN   \n",
       "1                   6.0                 1.0                       5.0   \n",
       "2                   NaN                 NaN                       NaN   \n",
       "3                   NaN                 NaN                       NaN   \n",
       "4                   NaN                 NaN                       NaN   \n",
       "\n",
       "   Finals MVP player_idmstr  \n",
       "0         NaN     abdelal01  \n",
       "1         2.0     abdulka01  \n",
       "2         NaN     abdulma01  \n",
       "3         NaN     abdulma02  \n",
       "4         NaN     abdulta01  "
      ]
     },
     "execution_count": 11,
     "metadata": {},
     "output_type": "execute_result"
    }
   ],
   "source": [
    "# All data in one DataFrame 'df'\n",
    "\n",
    "df = master_df.drop(['player_idmstr'], axis =1)\n",
    "\n",
    "# fill null values with 0 in master_df\n",
    "fill_cols = ['All-NBA First Team', 'AS_game', 'HoF', 'Most Valuable Player', 'Rookie of the Year', 'All-Defensive First Team', 'Finals MVP']\n",
    "\n",
    "for col in fill_cols:\n",
    "       df[col] = df[col].fillna(0)\n",
    "        \n",
    "master_df.head()\n"
   ]
  },
  {
   "cell_type": "markdown",
   "metadata": {},
   "source": [
    "The dictionary is now cleaned, with null values cleaned. Now we can create new data fields."
   ]
  },
  {
   "cell_type": "code",
   "execution_count": 12,
   "metadata": {},
   "outputs": [],
   "source": [
    "# Feature Engineering\n",
    "# add new features to cleaned data"
   ]
  },
  {
   "cell_type": "markdown",
   "metadata": {},
   "source": [
    "Per Game statistics are key indicators of performance in basketball. "
   ]
  },
  {
   "cell_type": "code",
   "execution_count": 13,
   "metadata": {},
   "outputs": [],
   "source": [
    "# Create per game stats (PPG,RPG,APG)\n",
    "\n",
    "df['ppg'] = df['points'] / df['GP']\n",
    "df['rpg'] = df['rebounds'] / df['GP']\n",
    "df['apg'] = df['assists'] / df['GP']\n",
    "df['mpg'] = df['minutes'] / df['GP']\n"
   ]
  },
  {
   "cell_type": "markdown",
   "metadata": {},
   "source": [
    "<b> Data Visualization </b>\n",
    "<br> Using histograms and scatter plots to better visualize our player statistics."
   ]
  },
  {
   "cell_type": "code",
   "execution_count": 14,
   "metadata": {},
   "outputs": [
    {
     "data": {
      "image/png": "[encoded data removed]",
      "text/plain": [
       "<Figure size 1080x864 with 4 Axes>"
      ]
     },
     "metadata": {},
     "output_type": "display_data"
    }
   ],
   "source": [
    "plt.style.use(\"ggplot\")\n",
    "\n",
    "# visualizing all player career averages\n",
    "fig = plt.figure(figsize = (15,12))\n",
    "ax1 = fig.add_subplot (2,2,1)\n",
    "ax2 = fig.add_subplot (2,2,2)\n",
    "ax3 = fig.add_subplot (2,2,3)\n",
    "ax4 = fig.add_subplot (2,2,4)\n",
    "\n",
    "# distribution plots for all players dataset - points, rebounds, assists, years played\n",
    "ax1.hist(df['ppg'], bins = 30)\n",
    "ax1.set_title('Points per Game')\n",
    "ax1.set_ylabel('Num. Players')\n",
    "\n",
    "ax2.hist(df['rpg'], bins = 30)\n",
    "ax2.set_title('Rebounds per Game')\n",
    "ax2.set_ylabel('Num. Players')\n",
    "\n",
    "ax3.hist(df['apg'], bins = 10)\n",
    "ax3.set_title('Assists per Game')\n",
    "ax3.set_ylabel('Num. Players')\n",
    "\n",
    "ax4.hist(df['Years_Played'], bins = 20)\n",
    "ax4.set_title('Years Played')\n",
    "ax4.set_ylabel('Num. Players')\n",
    "plt.xticks(np.arange(min(df['Years_Played']), max(df['Years_Played'])+1, 1.0))\n",
    "plt.show()\n",
    "\n",
    "df = df.dropna()\n"
   ]
  },
  {
   "cell_type": "code",
   "execution_count": 15,
   "metadata": {},
   "outputs": [
    {
     "name": "stdout",
     "output_type": "stream",
     "text": [
      "100\n"
     ]
    }
   ],
   "source": [
    "# visualization of Hall of Fame players\n",
    "df_hof = df[df['HoF']==1]\n",
    "# Print the length of the new DataFrame\n",
    "print(len(df_hof))"
   ]
  },
  {
   "cell_type": "code",
   "execution_count": 16,
   "metadata": {},
   "outputs": [
    {
     "data": {
      "image/png": "[encoded data removed]",
      "text/plain": [
       "<Figure size 1080x864 with 4 Axes>"
      ]
     },
     "metadata": {},
     "output_type": "display_data"
    }
   ],
   "source": [
    "# visualizing Hall of Fame player career averages\n",
    "fig = plt.figure(figsize = (15,12))\n",
    "ax1 = fig.add_subplot (2,2,1)\n",
    "ax2 = fig.add_subplot (2,2,2)\n",
    "ax3 = fig.add_subplot (2,2,3)\n",
    "ax4 = fig.add_subplot (2,2,4)\n",
    "\n",
    "# distribution plots for Hall of Fame players- points, rebounds, assists, years played\n",
    "ax1.hist(df_hof['ppg'], bins = 30)\n",
    "ax1.set_title('Points per Game')\n",
    "ax1.set_ylabel('Hall of Fame Players')\n",
    "\n",
    "ax2.hist(df_hof['rpg'], bins = 30)\n",
    "ax2.set_title('Rebounds per Game')\n",
    "ax2.set_ylabel('Hall of Fame Players')\n",
    "\n",
    "ax3.hist(df_hof['apg'], bins = 10)\n",
    "ax3.set_title('Assists per Game')\n",
    "ax3.set_ylabel('Hall of Fame Players')\n",
    "\n",
    "ax4.hist(df_hof['Years_Played'], bins = 20)\n",
    "ax4.set_title('Years Played')\n",
    "ax4.set_ylabel('Hall of Fame Players')\n",
    "plt.xticks(np.arange(min(df['Years_Played']), max(df['Years_Played'])+1, 1.0))\n",
    "plt.show()\n"
   ]
  },
  {
   "cell_type": "code",
   "execution_count": 17,
   "metadata": {
    "scrolled": true
   },
   "outputs": [
    {
     "data": {
      "image/png": "[encoded data removed]",
      "text/plain": [
       "<Figure size 936x360 with 2 Axes>"
      ]
     },
     "metadata": {},
     "output_type": "display_data"
    }
   ],
   "source": [
    "# scatter plot comparison between non-Hall of Fame players and Hall of Fame player stats\n",
    "\n",
    "df_nonhof = df[df['HoF'] == 0]\n",
    "\n",
    "fig = plt.figure(figsize=(13, 5))\n",
    "ax1 = fig.add_subplot(1,2,1)\n",
    "ax2 = fig.add_subplot(1,2,2)\n",
    "\n",
    "#Scatter Plot total points vs. ppg)\n",
    "ax1.scatter(df_nonhof['ppg'], df_nonhof['points'], c='b', alpha = 0.75, label = 'Average Player')\n",
    "ax1.scatter(df_hof['ppg'], df_hof['points'], c='r', alpha = 0.75, label = 'HoF Player')\n",
    "ax1.set_title('Career Points vs Points per game')\n",
    "ax1.set_xlabel('Points per game')\n",
    "ax1.set_ylabel('Career Points')\n",
    "ax1.legend()\n",
    "\n",
    "#Scatter Plot mpg vs. ppg)\n",
    "ax2.scatter(df_nonhof['ppg'], df_nonhof['mpg'], c='b', alpha = 0.75, label = 'Average Player')\n",
    "ax2.scatter(df_hof['ppg'], df_hof['mpg'], c='r',alpha = 0.75,label = 'HoF Player')\n",
    "ax2.set_title('Points per game vs Minutes per game')\n",
    "ax2.set_xlabel('Points per game')\n",
    "ax2.set_ylabel('Minutes per game')\n",
    "\n",
    "ax2.legend()\n",
    "plt.show()"
   ]
  },
  {
   "cell_type": "markdown",
   "metadata": {},
   "source": [
    "From the above scater plots, we can see Hall of Fame-inducted players score more on average and play more minutes than players that have not been inducted into the Hall of Fame."
   ]
  },
  {
   "cell_type": "code",
   "execution_count": 18,
   "metadata": {},
   "outputs": [
    {
     "data": {
      "text/plain": [
       "<matplotlib.axes._subplots.AxesSubplot at 0x1a17ea3da0>"
      ]
     },
     "execution_count": 18,
     "metadata": {},
     "output_type": "execute_result"
    },
    {
     "data": {
      "image/png": "[encoded data removed]",
      "text/plain": [
       "<Figure size 504x504 with 1 Axes>"
      ]
     },
     "metadata": {},
     "output_type": "display_data"
    }
   ],
   "source": [
    "# density plot showing Hall of Fame mpg vs non-Hall of Fame mpg\n",
    "\n",
    "f, axes = plt.subplots(1, 1, figsize=(7, 7), sharey=True)\n",
    "\n",
    "# plot of simple distribution of the desired columns\n",
    "\n",
    "sns.distplot(df_nonhof['mpg'], hist=True, kde=True, bins = 40, color = 'darkblue', \n",
    "             hist_kws={'edgecolor':'black'}, kde_kws={'linewidth': 1})\n",
    "sns.distplot(df_hof['mpg'], hist=True, kde=True, bins= 40, color = 'darkred', \n",
    "             hist_kws={'edgecolor':'black'}, kde_kws={'linewidth': 1})\n"
   ]
  },
  {
   "cell_type": "markdown",
   "metadata": {},
   "source": [
    "Hall of Fame players average over twice as many minutes per game than non-Hall of Fame players. \n",
    "<br> Hall of Fame minutes per game: 31.35\n",
    "<br> Non-Hall of Fame player minutes per game: 14.39\n"
   ]
  },
  {
   "cell_type": "code",
   "execution_count": 19,
   "metadata": {},
   "outputs": [
    {
     "data": {
      "text/plain": [
       "<matplotlib.axes._subplots.AxesSubplot at 0x1a184e3a90>"
      ]
     },
     "execution_count": 19,
     "metadata": {},
     "output_type": "execute_result"
    },
    {
     "data": {
      "image/png": "[encoded data removed]",
      "text/plain": [
       "<Figure size 432x288 with 1 Axes>"
      ]
     },
     "metadata": {},
     "output_type": "display_data"
    }
   ],
   "source": [
    "sns.distplot(df_nonhof['ppg'], hist=True, kde=True, bins = 40, color = 'darkblue', \n",
    "             hist_kws={'edgecolor':'black'}, kde_kws={'linewidth': 1})\n",
    "sns.distplot(df_hof['ppg'], hist=True, kde=True,  bins= 40, color = 'darkred', \n",
    "             hist_kws={'edgecolor':'black'}, kde_kws={'linewidth': 1})"
   ]
  },
  {
   "cell_type": "markdown",
   "metadata": {},
   "source": [
    "Hall of Fame players average significantly higher points per game than non-Hall of Fame players.\n",
    "<br> Hall of Fame points per game: 17.77\n",
    "<br> Non-Hall of Fame player points per game: 6.07"
   ]
  },
  {
   "cell_type": "code",
   "execution_count": 20,
   "metadata": {},
   "outputs": [
    {
     "name": "stdout",
     "output_type": "stream",
     "text": [
      "Index(['player_id', 'firstName', 'lastName', 'pos', 'college', 'GP', 'points',\n",
      "       'rebounds', 'assists', 'minutes', 'Years_Played', 'All-NBA First Team',\n",
      "       'AS_game', 'HoF', 'Most Valuable Player', 'Rookie of the Year',\n",
      "       'All-Defensive First Team', 'Finals MVP', 'ppg', 'rpg', 'apg', 'mpg'],\n",
      "      dtype='object')\n"
     ]
    }
   ],
   "source": [
    "print(df.columns)"
   ]
  },
  {
   "cell_type": "code",
   "execution_count": 21,
   "metadata": {},
   "outputs": [
    {
     "name": "stdout",
     "output_type": "stream",
     "text": [
      "   player_id firstName      lastName  HoF        ppg        rpg       apg  \\\n",
      "0  abdelal01      Alaa     Abdelnaby  0.0   5.722656   3.304688  0.332031   \n",
      "1  abdulka01    Kareem  Abdul-Jabbar  1.0  24.607051  11.179487  3.628205   \n",
      "2  abdulma01     Mahdi  Abdul-Rahman  0.0  12.551105   2.964088  4.910221   \n",
      "3  abdulma02   Mahmoud    Abdul-Rauf  0.0  14.595563   1.854949  3.547782   \n",
      "4  abdulta01     Tariq   Abdul-Wahad  0.0   7.754237   3.288136  1.127119   \n",
      "\n",
      "   points  Most Valuable Player  Finals MVP  All-NBA First Team  \\\n",
      "0    1465                   0.0         0.0                 0.0   \n",
      "1   38387                   6.0         2.0                10.0   \n",
      "2    9087                   0.0         0.0                 0.0   \n",
      "3    8553                   0.0         0.0                 0.0   \n",
      "4    1830                   0.0         0.0                 0.0   \n",
      "\n",
      "   All-Defensive First Team  Rookie of the Year  AS_game    GP  \n",
      "0                       0.0                 0.0      0.0   256  \n",
      "1                       5.0                 1.0     19.0  1560  \n",
      "2                       0.0                 0.0      0.0   724  \n",
      "3                       0.0                 0.0      0.0   586  \n",
      "4                       0.0                 0.0      0.0   236  \n"
     ]
    }
   ],
   "source": [
    "# Columns to use for Logistic Regression model, ordered by significance\n",
    "data_list = ['player_id', 'firstName', 'lastName','HoF','ppg', 'rpg', 'apg','points',\n",
    "        'Most Valuable Player', 'Finals MVP', 'All-NBA First Team', \n",
    "        'All-Defensive First Team', 'Rookie of the Year', 'AS_game','GP']\n",
    "\n",
    "#data DataFrame will be used for model to identify\n",
    "\n",
    "data = df[data_list]\n",
    "print(data.head())"
   ]
  },
  {
   "cell_type": "code",
   "execution_count": 22,
   "metadata": {},
   "outputs": [
    {
     "name": "stdout",
     "output_type": "stream",
     "text": [
      "3744\n",
      "100\n"
     ]
    }
   ],
   "source": [
    "# 3744 total players, 100 made Hall of Fame\n",
    "print(len(data))\n",
    "print(len(data[data['HoF'] == 1]))"
   ]
  },
  {
   "cell_type": "markdown",
   "metadata": {},
   "source": [
    "There are 3744 unique players in test data set. 100 of those have made the Hall of Fame."
   ]
  },
  {
   "cell_type": "code",
   "execution_count": 23,
   "metadata": {},
   "outputs": [],
   "source": [
    "# Create target series\n",
    "target = data['HoF']\n",
    "\n",
    "# Create 'features' DateFrame\n",
    "features = data.drop(['player_id', 'firstName', 'lastName', 'HoF'], axis=1)"
   ]
  },
  {
   "cell_type": "markdown",
   "metadata": {},
   "source": [
    "<b>Question: Is it possible to create a Logistic Regression Model  to accurately predict if an NBA player can make the Hall of Fame? </b>"
   ]
  },
  {
   "cell_type": "code",
   "execution_count": 24,
   "metadata": {},
   "outputs": [],
   "source": [
    "# Logistic Regression model\n",
    "lr = LogisticRegression(C=0.01,class_weight='balanced')\n",
    "\n",
    "# Create an instance of the KFold class\n",
    "kf = KFold(features.shape[0], random_state=10)\n",
    "\n",
    "# Create predictions using cross validation\n",
    "predictions_lr = cross_val_predict(lr, features, target, cv=kf)\n",
    "\n",
    "# Convert predictions and target to NumPy arrays\n",
    "np_predictions_lr = np.asarray(predictions_lr)\n",
    "np_target = target.as_matrix()\n"
   ]
  },
  {
   "cell_type": "markdown",
   "metadata": {},
   "source": [
    "To determine accuracy of the predictions, we observe the four possible prediction scenarios.\n",
    "<br> These are stasitical measures of the performance of the classification test.\n",
    "<br> True Positive, True Negative, False Positive, False Negative"
   ]
  },
  {
   "cell_type": "code",
   "execution_count": 25,
   "metadata": {},
   "outputs": [
    {
     "name": "stdout",
     "output_type": "stream",
     "text": [
      "89\n",
      "11\n",
      "158\n",
      "True Positivity Rate: 0.89\n",
      "False Negativity Rate: 0.11\n",
      "False Positivity Rate: 0.0433589462129528\n"
     ]
    }
   ],
   "source": [
    "# Determine True Positive count\n",
    "tp_filter_lr = (np_predictions_lr == 1) & (np_target == 1)\n",
    "tp_lr = len(np_predictions_lr[tp_filter_lr])\n",
    "\n",
    "# Determine False Negative count\n",
    "fn_filter_lr = (np_predictions_lr == 0) & (np_target == 1)\n",
    "fn_lr = len(np_predictions_lr[fn_filter_lr])\n",
    "\n",
    "# Determine False Positive count\n",
    "fp_filter_lr = (np_predictions_lr == 1) & (np_target == 0)\n",
    "fp_lr = len(np_predictions_lr[fp_filter_lr])\n",
    "\n",
    "# Determine True Negative count\n",
    "tn_filter_lr = (np_predictions_lr == 0) & (np_target == 0)\n",
    "tn_lr = len(np_predictions_lr[tn_filter_lr])\n",
    "\n",
    "# Determine True Positive rate\n",
    "tpr_lr = tp_lr / (tp_lr + fn_lr)\n",
    "\n",
    "# Determine False Negative rate\n",
    "fnr_lr = fn_lr / (fn_lr + tp_lr)\n",
    "\n",
    "# Determine False Positive rate\n",
    "fpr_lr = fp_lr / (fp_lr + tn_lr)\n",
    "\n",
    "# Print each count\n",
    "print(tp_lr)\n",
    "print(fn_lr)\n",
    "print(fp_lr)\n",
    "\n",
    "# Print each rate\n",
    "print('True Positivity Rate:', tpr_lr)\n",
    "print('False Negativity Rate:',fnr_lr)\n",
    "print('False Positivity Rate:', fpr_lr)"
   ]
  },
  {
   "cell_type": "markdown",
   "metadata": {},
   "source": [
    "The logistic regression model accurately predicted 89% of the Hall of Famers. 158 non-HoF players falsly tested positive. Overall, 4.3% had a false positive rate."
   ]
  },
  {
   "cell_type": "code",
   "execution_count": 26,
   "metadata": {},
   "outputs": [],
   "source": [
    "# Predictive data - import new dataframe of players not yet in HoF\n",
    "new_data_list = ['player_id', 'firstName', 'lastName','HoF','ppg', 'rpg', 'apg', 'points',\n",
    "        'Most Valuable Player', 'Finals MVP', 'All-NBA First Team', \n",
    "        'All-Defensive First Team', 'Rookie of the Year', 'AS_game','GP']\n",
    "\n",
    "new_data = df_nonhof[new_data_list]\n",
    "\n",
    "# Create a new features DataFrame\n",
    "\n",
    "new_features = new_data.drop(['player_id', 'firstName', 'lastName','HoF'], axis=1)\n"
   ]
  },
  {
   "cell_type": "markdown",
   "metadata": {},
   "source": [
    "Prediction testing: Using the list of players not yet in Hall of Fame to determine probability using logistic regression model."
   ]
  },
  {
   "cell_type": "code",
   "execution_count": 27,
   "metadata": {},
   "outputs": [],
   "source": [
    "# Fit the Logistic Regression model\n",
    "lr.fit(features, target)\n",
    "\n",
    "# Estimate probabilities of Hall of Fame induction\n",
    "probabilities = lr.predict_proba(new_features)"
   ]
  },
  {
   "cell_type": "code",
   "execution_count": 28,
   "metadata": {},
   "outputs": [
    {
     "name": "stdout",
     "output_type": "stream",
     "text": [
      "\n",
      "HoF Probability = 0.999999679101744\n",
      "firstName                      Kobe\n",
      "lastName                     Bryant\n",
      "HoF                               0\n",
      "ppg                         25.3953\n",
      "rpg                         5.28941\n",
      "apg                         4.66753\n",
      "points                        29484\n",
      "Most Valuable Player              1\n",
      "Finals MVP                        0\n",
      "All-NBA First Team               10\n",
      "All-Defensive First Team          9\n",
      "Rookie of the Year                0\n",
      "AS_game                          11\n",
      "GP                             1161\n",
      "Name: 245, dtype: object\n",
      "\n",
      "HoF Probability = 0.9999986180442983\n",
      "firstName                   Timothy\n",
      "lastName                     Duncan\n",
      "HoF                               0\n",
      "ppg                         20.3042\n",
      "rpg                         11.2799\n",
      "apg                         3.08551\n",
      "points                        22558\n",
      "Most Valuable Player              2\n",
      "Finals MVP                        3\n",
      "All-NBA First Team                9\n",
      "All-Defensive First Team          8\n",
      "Rookie of the Year                1\n",
      "AS_game                          12\n",
      "GP                             1111\n",
      "Name: 2446, dtype: object\n",
      "\n",
      "HoF Probability = 0.9999946865703312\n",
      "firstName                     Kevin\n",
      "lastName                    Garnett\n",
      "HoF                               0\n",
      "ppg                         19.3386\n",
      "rpg                          10.608\n",
      "apg                         4.03586\n",
      "points                        24270\n",
      "Most Valuable Player              1\n",
      "Finals MVP                        0\n",
      "All-NBA First Team                4\n",
      "All-Defensive First Team          9\n",
      "Rookie of the Year                0\n",
      "AS_game                          12\n",
      "GP                             1255\n",
      "Name: 591, dtype: object\n",
      "\n",
      "HoF Probability = 0.9998597764460846\n",
      "firstName                       Dirk\n",
      "lastName                    Nowitzki\n",
      "HoF                                0\n",
      "ppg                          22.8758\n",
      "rpg                          8.27867\n",
      "apg                           2.6455\n",
      "points                         24134\n",
      "Most Valuable Player               1\n",
      "Finals MVP                         1\n",
      "All-NBA First Team                 4\n",
      "All-Defensive First Team           0\n",
      "Rookie of the Year                 0\n",
      "AS_game                            9\n",
      "GP                              1055\n",
      "Name: 1330, dtype: object\n",
      "\n",
      "HoF Probability = 0.9998561645048544\n",
      "firstName                     Allen\n",
      "lastName                    Iverson\n",
      "HoF                               0\n",
      "ppg                         26.6608\n",
      "rpg                         3.71335\n",
      "apg                         6.15317\n",
      "points                        24368\n",
      "Most Valuable Player              1\n",
      "Finals MVP                        0\n",
      "All-NBA First Team                3\n",
      "All-Defensive First Team          0\n",
      "Rookie of the Year                1\n",
      "AS_game                           9\n",
      "GP                              914\n",
      "Name: 831, dtype: object\n",
      "\n",
      "HoF Probability = 0.9998087134699396\n",
      "firstName                   Marques\n",
      "lastName                    Johnson\n",
      "HoF                               0\n",
      "ppg                         20.1042\n",
      "rpg                         6.97106\n",
      "apg                         3.62084\n",
      "points                        13892\n",
      "Most Valuable Player              0\n",
      "Finals MVP                        0\n",
      "All-NBA First Team                1\n",
      "All-Defensive First Team          0\n",
      "Rookie of the Year                0\n",
      "AS_game                          14\n",
      "GP                              691\n",
      "Name: 904, dtype: object\n",
      "\n",
      "HoF Probability = 0.9997551343198027\n",
      "firstName                    LeBron\n",
      "lastName                      James\n",
      "HoF                               0\n",
      "ppg                         27.6415\n",
      "rpg                         7.17417\n",
      "apg                          6.8955\n",
      "points                        19045\n",
      "Most Valuable Player              3\n",
      "Finals MVP                        0\n",
      "All-NBA First Team                6\n",
      "All-Defensive First Team          4\n",
      "Rookie of the Year                1\n",
      "AS_game                           6\n",
      "GP                              689\n",
      "Name: 857, dtype: object\n",
      "\n",
      "HoF Probability = 0.9997020658648759\n",
      "firstName                      Gary\n",
      "lastName                     Payton\n",
      "HoF                               0\n",
      "ppg                         16.3393\n",
      "rpg                         3.94682\n",
      "apg                          6.7161\n",
      "points                        21813\n",
      "Most Valuable Player              0\n",
      "Finals MVP                        0\n",
      "All-NBA First Team                2\n",
      "All-Defensive First Team          9\n",
      "Rookie of the Year                0\n",
      "AS_game                           9\n",
      "GP                             1335\n",
      "Name: 1393, dtype: object\n",
      "\n",
      "HoF Probability = 0.999190503909269\n",
      "firstName                     Jason\n",
      "lastName                       Kidd\n",
      "HoF                               0\n",
      "ppg                         12.9817\n",
      "rpg                         6.39087\n",
      "apg                         9.00532\n",
      "points                        17071\n",
      "Most Valuable Player              0\n",
      "Finals MVP                        0\n",
      "All-NBA First Team                5\n",
      "All-Defensive First Team          4\n",
      "Rookie of the Year                1\n",
      "AS_game                           9\n",
      "GP                             1315\n",
      "Name: 976, dtype: object\n",
      "\n",
      "HoF Probability = 0.9984754991116453\n",
      "firstName                      Paul\n",
      "lastName                     Pierce\n",
      "HoF                               0\n",
      "ppg                           22.04\n",
      "rpg                         6.00976\n",
      "apg                         3.83902\n",
      "points                        22591\n",
      "Most Valuable Player              0\n",
      "Finals MVP                        1\n",
      "All-NBA First Team                0\n",
      "All-Defensive First Team          0\n",
      "Rookie of the Year                0\n",
      "AS_game                           8\n",
      "GP                             1025\n",
      "Name: 1426, dtype: object\n",
      "\n",
      "HoF Probability = 0.9984412531425577\n",
      "firstName                    Walter\n",
      "lastName                      Allen\n",
      "HoF                               0\n",
      "ppg                         19.9834\n",
      "rpg                         4.22474\n",
      "apg                         3.55662\n",
      "points                        22941\n",
      "Most Valuable Player              0\n",
      "Finals MVP                        0\n",
      "All-NBA First Team                0\n",
      "All-Defensive First Team          0\n",
      "Rookie of the Year                0\n",
      "AS_game                           9\n",
      "GP                             1148\n",
      "Name: 2057, dtype: object\n",
      "\n",
      "HoF Probability = 0.9983706376518615\n",
      "firstName                   Shaquille\n",
      "lastName                       O'Neal\n",
      "HoF                                 0\n",
      "ppg                           23.6918\n",
      "rpg                           10.8525\n",
      "apg                           2.50704\n",
      "points                          28596\n",
      "Most Valuable Player                1\n",
      "Finals MVP                          3\n",
      "All-NBA First Team                  8\n",
      "All-Defensive First Team            0\n",
      "Rookie of the Year                  1\n",
      "AS_game                             0\n",
      "GP                               1207\n",
      "Name: 1355, dtype: object\n",
      "\n",
      "HoF Probability = 0.9975583882936288\n",
      "firstName                   Vincent\n",
      "lastName                     Carter\n",
      "HoF                               0\n",
      "ppg                         21.4351\n",
      "rpg                         5.08925\n",
      "apg                         3.89047\n",
      "points                        21135\n",
      "Most Valuable Player              0\n",
      "Finals MVP                        0\n",
      "All-NBA First Team                0\n",
      "All-Defensive First Team          0\n",
      "Rookie of the Year                1\n",
      "AS_game                           8\n",
      "GP                              986\n",
      "Name: 2288, dtype: object\n",
      "\n",
      "HoF Probability = 0.99591788028744\n",
      "firstName                     Tracy\n",
      "lastName                    McGrady\n",
      "HoF                               0\n",
      "ppg                         19.5959\n",
      "rpg                         5.62473\n",
      "apg                         4.43603\n",
      "points                        18381\n",
      "Most Valuable Player              0\n",
      "Finals MVP                        0\n",
      "All-NBA First Team                2\n",
      "All-Defensive First Team          0\n",
      "Rookie of the Year                0\n",
      "AS_game                           7\n",
      "GP                              938\n",
      "Name: 1184, dtype: object\n",
      "\n",
      "HoF Probability = 0.9935667685215375\n",
      "firstName                    Dwight\n",
      "lastName                     Howard\n",
      "HoF                               0\n",
      "ppg                         18.4138\n",
      "rpg                         12.9984\n",
      "apg                         1.50564\n",
      "points                        11435\n",
      "Most Valuable Player              0\n",
      "Finals MVP                        0\n",
      "All-NBA First Team                5\n",
      "All-Defensive First Team          4\n",
      "Rookie of the Year                0\n",
      "AS_game                           4\n",
      "GP                              621\n",
      "Name: 804, dtype: object\n",
      "\n",
      "HoF Probability = 0.9928447956148437\n",
      "firstName                    Dwyane\n",
      "lastName                       Wade\n",
      "HoF                               0\n",
      "ppg                         25.1544\n",
      "rpg                         5.06711\n",
      "apg                         6.20302\n",
      "points                        14992\n",
      "Most Valuable Player              0\n",
      "Finals MVP                        1\n",
      "All-NBA First Team                2\n",
      "All-Defensive First Team          0\n",
      "Rookie of the Year                0\n",
      "AS_game                           6\n",
      "GP                              596\n",
      "Name: 1872, dtype: object\n",
      "\n",
      "HoF Probability = 0.9902546852006926\n",
      "firstName                     Alonzo\n",
      "lastName                    Mourning\n",
      "HoF                                0\n",
      "ppg                          17.0752\n",
      "rpg                          8.51671\n",
      "apg                          1.12888\n",
      "points                         14309\n",
      "Most Valuable Player               0\n",
      "Finals MVP                         0\n",
      "All-NBA First Team                 1\n",
      "All-Defensive First Team           2\n",
      "Rookie of the Year                 0\n",
      "AS_game                            7\n",
      "GP                               838\n",
      "Name: 1273, dtype: object\n",
      "\n",
      "HoF Probability = 0.9900240216801538\n",
      "firstName                     Grant\n",
      "lastName                       Hill\n",
      "HoF                               0\n",
      "ppg                         17.0973\n",
      "rpg                         6.13842\n",
      "apg                         4.23872\n",
      "points                        17046\n",
      "Most Valuable Player              0\n",
      "Finals MVP                        0\n",
      "All-NBA First Team                1\n",
      "All-Defensive First Team          0\n",
      "Rookie of the Year                1\n",
      "AS_game                           7\n",
      "GP                              997\n",
      "Name: 774, dtype: object\n",
      "\n",
      "HoF Probability = 0.98939891740303\n",
      "firstName                     Mayce\n",
      "lastName                     Webber\n",
      "HoF                               0\n",
      "ppg                         20.6763\n",
      "rpg                         9.77617\n",
      "apg                         4.24308\n",
      "points                        17182\n",
      "Most Valuable Player              0\n",
      "Finals MVP                        0\n",
      "All-NBA First Team                1\n",
      "All-Defensive First Team          0\n",
      "Rookie of the Year                1\n",
      "AS_game                           5\n",
      "GP                              831\n",
      "Name: 3603, dtype: object\n",
      "\n",
      "HoF Probability = 0.9891374504739638\n",
      "firstName                   Mitchell\n",
      "lastName                    Richmond\n",
      "HoF                                0\n",
      "ppg                           21.001\n",
      "rpg                          3.89447\n",
      "apg                          3.48156\n",
      "points                         20497\n",
      "Most Valuable Player               0\n",
      "Finals MVP                         0\n",
      "All-NBA First Team                 0\n",
      "All-Defensive First Team           0\n",
      "Rookie of the Year                 1\n",
      "AS_game                            6\n",
      "GP                               976\n",
      "Name: 3270, dtype: object\n",
      "\n",
      "HoF Probability = 0.9864495634677747\n",
      "firstName                      Jack\n",
      "lastName                      Sikma\n",
      "HoF                               0\n",
      "ppg                         15.6161\n",
      "rpg                         9.77055\n",
      "apg                         3.15086\n",
      "points                        17287\n",
      "Most Valuable Player              0\n",
      "Finals MVP                        0\n",
      "All-NBA First Team                0\n",
      "All-Defensive First Team          0\n",
      "Rookie of the Year                0\n",
      "AS_game                           7\n",
      "GP                             1107\n",
      "Name: 1641, dtype: object\n",
      "\n",
      "HoF Probability = 0.9863861898817537\n",
      "firstName                   Bernard\n",
      "lastName                       King\n",
      "HoF                               0\n",
      "ppg                         22.4886\n",
      "rpg                         5.78947\n",
      "apg                         3.27574\n",
      "points                        19655\n",
      "Most Valuable Player              0\n",
      "Finals MVP                        0\n",
      "All-NBA First Team                2\n",
      "All-Defensive First Team          0\n",
      "Rookie of the Year                0\n",
      "AS_game                           4\n",
      "GP                              874\n",
      "Name: 980, dtype: object\n",
      "\n",
      "HoF Probability = 0.9832188541315526\n",
      "firstName                   Stephen\n",
      "lastName                       Nash\n",
      "HoF                               0\n",
      "ppg                         14.4523\n",
      "rpg                         3.01302\n",
      "apg                         8.60677\n",
      "points                        16649\n",
      "Most Valuable Player              2\n",
      "Finals MVP                        0\n",
      "All-NBA First Team                3\n",
      "All-Defensive First Team          0\n",
      "Rookie of the Year                0\n",
      "AS_game                           6\n",
      "GP                             1152\n",
      "Name: 3103, dtype: object\n",
      "\n",
      "HoF Probability = 0.9811466327557633\n",
      "firstName                     Louis\n",
      "lastName                     Hudson\n",
      "HoF                               0\n",
      "ppg                         20.1573\n",
      "rpg                         4.41124\n",
      "apg                         2.73258\n",
      "points                        17940\n",
      "Most Valuable Player              0\n",
      "Finals MVP                        0\n",
      "All-NBA First Team                0\n",
      "All-Defensive First Team          0\n",
      "Rookie of the Year                0\n",
      "AS_game                           6\n",
      "GP                              890\n",
      "Name: 2741, dtype: object\n",
      "\n",
      "HoF Probability = 0.9804815623161057\n",
      "firstName                    Walter\n",
      "lastName                      Davis\n",
      "HoF                               0\n",
      "ppg                         18.8974\n",
      "rpg                         2.95547\n",
      "apg                         3.75411\n",
      "points                        19521\n",
      "Most Valuable Player              0\n",
      "Finals MVP                        0\n",
      "All-NBA First Team                0\n",
      "All-Defensive First Team          0\n",
      "Rookie of the Year                1\n",
      "AS_game                           6\n",
      "GP                             1033\n",
      "Name: 401, dtype: object\n"
     ]
    }
   ],
   "source": [
    "# Convert predictions to a DataFrame\n",
    "hof_predictions = pd.DataFrame(probabilities[:,1])\n",
    "\n",
    "# Sort the DataFrame (descending)\n",
    "hof_predictions = hof_predictions.sort_values(0, ascending=False)\n",
    "\n",
    "hof_predictions['Probability'] = hof_predictions[0]\n",
    "\n",
    "# Print highest probability HoF inductees from players not yet in HoF\n",
    "for i, row in hof_predictions.head(25).iterrows():\n",
    "    prob = ' '.join(('HoF Probability =', str(row['Probability'])))\n",
    "    print('')\n",
    "    print(prob)\n",
    "    print(new_data.iloc[i,1:27])"
   ]
  },
  {
   "cell_type": "markdown",
   "metadata": {},
   "source": [
    "The source data contains statistics through 2011. Thus, we can verify the outcome of players inducted into the Hall of Fame since 2011."
   ]
  },
  {
   "cell_type": "markdown",
   "metadata": {},
   "source": [
    "The model accurately predicted the first <b> 10 eligible players </b> to get inducted into the Hall of Fame. It is fair to say many of the players that the model has predicted, will get inducted once they are eligible."
   ]
  }
 ],
 "metadata": {
  "kernelspec": {
   "display_name": "Python 3",
   "language": "python",
   "name": "python3"
  },
  "language_info": {
   "codemirror_mode": {
    "name": "ipython",
    "version": 3
   },
   "file_extension": ".py",
   "mimetype": "text/x-python",
   "name": "python",
   "nbconvert_exporter": "python",
   "pygments_lexer": "ipython3",
   "version": "3.6.5"
  },
  "widgets": {
   "application/vnd.jupyter.widget-state+json": {
    "state": {},
    "version_major": 2,
    "version_minor": 0
   }
  }
 },
 "nbformat": 4,
 "nbformat_minor": 2
}
